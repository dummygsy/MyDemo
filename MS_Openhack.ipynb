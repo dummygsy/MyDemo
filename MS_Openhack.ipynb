{
 "cells": [
  {
   "cell_type": "code",
   "execution_count": 2,
   "metadata": {
    "collapsed": false
   },
   "outputs": [
    {
     "name": "stdout",
     "output_type": "stream",
     "text": [
      "{'id': '2efcb7e6-8228-4ae9-bd93-f57e89ccdbba', 'project': '6800c76e-c359-4866-9a6d-0c3ec33fe7be', 'created': '2018-05-22T05:22:36.9571783Z', 'iteration': '599bcc73-6bac-4c68-a900-7f5dbcb2a645', 'predictions': [{'probability': 0.990154266, 'tagId': '12224721-47ed-41a1-943e-23c4b0e90c65', 'tagName': 'Jackets'}, {'probability': 0.0110482564, 'tagId': 'ad06803c-2c0e-4980-81bf-9bb8ad84cccb', 'tagName': 'Gloves'}, {'probability': 0.000216540342, 'tagId': '448629a0-3805-4537-ab5c-0b845e323275', 'tagName': 'Helmets'}, {'probability': 0.000103220373, 'tagId': 'e1660d52-62db-48a1-aada-b74e36461766', 'tagName': 'Boots'}]}\n",
      "\n",
      "The probability of tag Jackets is 0.990154266\n",
      "The probability of tag Gloves is 0.0110482564\n",
      "The probability of tag Helmets is 0.000216540342\n",
      "The probability of tag Boots is 0.000103220373\n",
      "\n",
      "~~~~~~~~~~~~~~~~~~~~\n",
      "This picture is belong to Jackets \n"
     ]
    }
   ],
   "source": [
    "# MS OpenHack, May 22, Beijing.\n",
    "#\n",
    "# Case 1: Create a model in Custome Vision and make it as a web service. Call RESTful API to clarify a pic.\n",
    "# \n",
    "# https://southcentralus.api.cognitive.microsoft.com/customvision/v2.0/Prediction/6800c76e-c359-4866-9a6d-0c3ec33fe7be/url?iterationId=599bcc73-6bac-4c68-a900-7f5dbcb2a645\n",
    "# Set Prediction-Key Header to : 90363b49d0d24017a34c4072f0218f56\n",
    "# Set Content-Type Header to : application/json\n",
    "# Set Body to : {\"Url\": \"https://example.com/image.png\"}\n",
    "\n",
    "import requests\n",
    "import json\n",
    "\n",
    "url = 'https://southcentralus.api.cognitive.microsoft.com/customvision/v2.0/Prediction/6800c76e-c359-4866-9a6d-0c3ec33fe7be/url?iterationId=599bcc73-6bac-4c68-a900-7f5dbcb2a645'\n",
    "headers = {\n",
    "    'Prediction-Key': '90363b49d0d24017a34c4072f0218f56',\n",
    "    'Content-Type': 'application/json'\n",
    "}\n",
    "body = {\"Url\": \"http://images.esellerpro.com/2296/I/317/696/condor_aegis_blk_1.jpg\"}\n",
    "\n",
    "rsp = requests.post(url, json.dumps(body), headers=headers)\n",
    "result = json.loads(rsp.text)\n",
    "print(result)\n",
    "print(\"\")\n",
    "\n",
    "best_score = 0\n",
    "prediction = 'None'\n",
    "for predict in result['predictions']:\n",
    "    if predict['probability'] > best_score:\n",
    "        prediction = predict['tagName']\n",
    "        best_score = predict['probability']\n",
    "    print('The probability of tag {0} is {1}'.format(predict['tagName'], predict['probability']))\n",
    "\n",
    "print(\"\")\n",
    "print(\"~~~~~~~~~~~~~~~~~~~~\")\n",
    "print(\"This picture is belong to {} \".format(prediction))"
   ]
  },
  {
   "cell_type": "code",
   "execution_count": null,
   "metadata": {
    "collapsed": true
   },
   "outputs": [],
   "source": []
  }
 ],
 "metadata": {
  "anaconda-cloud": {},
  "kernelspec": {
   "display_name": "Python [default]",
   "language": "python",
   "name": "python3"
  },
  "language_info": {
   "codemirror_mode": {
    "name": "ipython",
    "version": 3
   },
   "file_extension": ".py",
   "mimetype": "text/x-python",
   "name": "python",
   "nbconvert_exporter": "python",
   "pygments_lexer": "ipython3",
   "version": "3.5.2"
  }
 },
 "nbformat": 4,
 "nbformat_minor": 1
}
